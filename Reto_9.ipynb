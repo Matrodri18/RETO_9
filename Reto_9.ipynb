{
  "nbformat": 4,
  "nbformat_minor": 0,
  "metadata": {
    "colab": {
      "provenance": []
    },
    "kernelspec": {
      "name": "python3",
      "display_name": "Python 3"
    },
    "language_info": {
      "name": "python"
    }
  },
  "cells": [
    {
      "cell_type": "markdown",
      "source": [
        "# Reto 9"
      ],
      "metadata": {
        "id": "am50yTa_yli8"
      }
    },
    {
      "cell_type": "markdown",
      "source": [
        "## 1.Desarrollar un algoritmo que calcula el promedio de un arreglo de reales."
      ],
      "metadata": {
        "id": "EsbbFUPUyp-U"
      }
    },
    {
      "cell_type": "code",
      "source": [
        "64\n",
        "def calcular_arreglo(arreglo):\n",
        "  if len(arreglo) == 0: # es el condicional que nos indica el caso en el cual el arreglo esta vacio\n",
        "    return \"El arreglo esta vacio\" #impresion cuando no ingresen elementos\n",
        "  suma = sum(arreglo) #sumatoria de los datos\n",
        "  promedio_reales = suma / len(arreglo) # se establece que la sumatoria de los elementos del arreglo se divida entre el numero de elementos (es la formula de promedio de toda la vida jeje)\n",
        "  return promedio_reales # nos regresa el valor del promedio\n",
        "reales = [] # lista vacia de inicio\n",
        "n = int(input(\"ingrese el numero de datos que tendrá su arreglo: \")) # se da el ingreso a la cantidad de datos que tendra el arreglo\n",
        "for i in range(n): # Rango de elementos del\n",
        "  num = float(input(\"Ingrese el elemento \" + str(i + 1) + \": \")) # imprime el dato que va a ingresar\n",
        "  reales.append(num) # se agregan los datos a la lista vacia anteriormente establecida\n",
        "resultado = calcular_arreglo(reales) # Resultado final\n",
        "print(\"el promedio de el arreglo de numeros reales es \" + str(resultado)) # Se imprime el resultado final\n",
        ""
      ],
      "metadata": {
        "id": "4BXjUoe6zMdA",
        "outputId": "bc890863-42fa-4c9b-af8f-2ff1afd50bf6",
        "colab": {
          "base_uri": "https://localhost:8080/"
        }
      },
      "execution_count": 7,
      "outputs": [
        {
          "output_type": "stream",
          "name": "stdout",
          "text": [
            "ingrese la cantidad de numeros que tendrá su arreglo: 4\n",
            "Ingrese el elemento 1: 1\n",
            "Ingrese el elemento 2: 2\n",
            "Ingrese el elemento 3: 3\n",
            "Ingrese el elemento 4: 4\n",
            "el promedio de el arreglo de numeros reales es 2.5\n"
          ]
        }
      ]
    },
    {
      "cell_type": "markdown",
      "source": [
        "## 2.Desarrollar un algoritmo que calcula el producto punto de dos arreglos de números enteros (reales) de igual tamaño."
      ],
      "metadata": {
        "id": "0EnpJXvvyunW"
      }
    },
    {
      "cell_type": "code",
      "source": [
        "def calcular_producto(ar1, ar2):\n",
        "    if len(ar1) == 0:  # Caso lista vacia\n",
        "        return \"El arreglo esta vacio.\"\n",
        "    if len(ar1) != len(ar2):  # por medio de este condicional se verifica que los dos arreglos tengan el mismo tamaño\n",
        "        return \"Los arreglos no son del mismo tamaño.\"\n",
        "\n",
        "    producto = 0 # se inicia desde 0\n",
        "    for i in range(len(ar1)): # recorre los todos los elementos del arreglo\n",
        "      producto += ar1[i] * ar2[i] # Suma de los productos\n",
        "    return producto # resultado anterior\n",
        "\n",
        "if __name__ == \"__main__\":\n",
        "    n = int(input(\"ingrese el tamaño de elementos en los arreglos: \")) # ingresamos el numero de elementos\n",
        "    if n <= 0:\n",
        "      print(\"el tamaño del arreglo debe ser mayor a 0\") # caso en el que digamos que el arreglo va a tener 0 elementos o menos\n",
        "    else:\n",
        "     # Definimos las listas vacías\n",
        "      arreglo1 = []\n",
        "      arreglo2 = []\n",
        "\n",
        "      # Ingresamos los elementos del primer arreglo\n",
        "      print(\"Ingrese los elementos del primer arreglo:\")\n",
        "      for i in range(n): # recorremos cada elemento de la lista, esto se hace con el fin de darle un valor a cada elemento\n",
        "        arreglo1.append(float(input(\"Elemento \" + str(i+1)+ \" \"))) # print que le asignara un valor a cada elemento de el arreglo\n",
        "\n",
        "      # ingresamos los elementos del segundo arreglo (se repite lo mismo que antes pero con el arreglo 2)\n",
        "      print(\"Ingrese los elementos del segundo arreglo:\")\n",
        "      for i in range(n):\n",
        "        arreglo2.append(float(input(\"Elemento \" + str(i+1) + \" \")))\n",
        "\n",
        "      resultado = calcular_producto(arreglo1, arreglo2) # calculamos el resultado de toda la funcion\n",
        "      print(\"El producto punto es:\" + str(resultado)) # es el print final que nos retorna el resultado del arreglo\n",
        "\n",
        ""
      ],
      "metadata": {
        "id": "y6rL4NtuzMwq",
        "outputId": "1790e67f-a54a-4fbb-bbe4-86c561d5dfc7",
        "colab": {
          "base_uri": "https://localhost:8080/"
        }
      },
      "execution_count": 13,
      "outputs": [
        {
          "output_type": "stream",
          "name": "stdout",
          "text": [
            "ingrese el tamaño de elementos en los arreglos: 2\n",
            "Ingrese los elementos del primer arreglo:\n",
            "Elemento 1 3\n",
            "Elemento 2 4\n",
            "Ingrese los elementos del segundo arreglo:\n",
            "Elemento 1 5\n",
            "Elemento 2 6\n",
            "El producto punto es:39.0\n"
          ]
        }
      ]
    },
    {
      "cell_type": "markdown",
      "source": [
        "## 3. Hacer un algoritmo que deja al final de un arreglo de números todos los ceros que aparecen en dicho arreglo."
      ],
      "metadata": {
        "id": "I2jv-RCOzB3S"
      }
    },
    {
      "cell_type": "code",
      "source": [
        "\n",
        "def mover_ceros_al_final(arreglo):\n",
        "    no_ceros = []  # en esta lista almacenaremos todos los numeros que no sean 0\n",
        "    cant_ceros = 0  # Conteo de los 0\n",
        "    for num in arreglo: # con el bucle for recorremos cada elemento del arreglo\n",
        "        if num == 0: # verifica que el numero sea igual a 0\n",
        "            cant_ceros += 1 # si es cero aumenta una unidad el contador de 0\n",
        "        else:\n",
        "            no_ceros.append(num) # identifica si no es 0 para enviarlo a la otra lista\n",
        "    return no_ceros + [0] * cant_ceros # aqui agregamos los ceros al final del arreglo\n",
        "\n",
        "if __name__ == \"__main__\":\n",
        "    n = int(input(\"ingrese el tamaño del arreglo: \")) # el usuario determina el numero de datos en el arreglo\n",
        "    if n <= 0:\n",
        "      print(\"el arreglo debe tener por lo menos 1 elemento\") # es el caso en el cual el ususario dice que su arrreglo tendra 0 datos o datos negativos, algo que no es posible\n",
        "    else:\n",
        "      arreglo = []  # lista vacia\n",
        "      for i in range(n):# se recoorren la cantidad de elementos establecida\n",
        "        valor = int(input(f\"Elemento \" + str(i+1) + \" \")) # se le asigna un valor a cada elemento\n",
        "        arreglo.append(valor) # se agrega el elemento a lista arreglo\n",
        "      resultado = mover_ceros_al_final(arreglo) # calcula el resultado de la funcion\n",
        "      print(\"lista con ceros al final: \" + str(resultado)) # imprime el resultado"
      ],
      "metadata": {
        "id": "NMGTazRWzNAE",
        "outputId": "ad7f4dac-e786-4c9e-cd89-0d3ea72962b4",
        "colab": {
          "base_uri": "https://localhost:8080/"
        }
      },
      "execution_count": 15,
      "outputs": [
        {
          "output_type": "stream",
          "name": "stdout",
          "text": [
            "ingrese el tamaño del arreglo: 6\n",
            "Elemento 1 1\n",
            "Elemento 2 2\n",
            "Elemento 3 0\n",
            "Elemento 4 3\n",
            "Elemento 5 4\n",
            "Elemento 6 0\n",
            "lista con ceros al final: [1, 2, 3, 4, 0, 0]\n"
          ]
        }
      ]
    }
  ]
}